{
 "cells": [
  {
   "cell_type": "markdown",
   "metadata": {},
   "source": [
    "## Election Data Project - Polls and Donors\n",
    "In this Data Project we will be looking at data from the 2012 election.\n",
    "\n",
    "In this project we will analyze two datasets. The first data set will be the results of political polls. We will analyze this aggregated poll data and answer some questions:\n",
    "\n",
    "    1.) Who was being polled and what was their party affiliation?\n",
    "    2.) Did the poll results favor Romney or Obama?\n",
    "    3.) How do undecided voters effect the poll?\n",
    "    4.) Can we account for the undecided voters?\n",
    "    5.) How did voter sentiment change over time?\n",
    "    6.) Can we see an effect in the polls from the debates?"
   ]
  },
  {
   "cell_type": "code",
   "execution_count": 1,
   "metadata": {
    "collapsed": true
   },
   "outputs": [],
   "source": [
    "# For data\n",
    "import pandas as pd\n",
    "from pandas import Series,DataFrame\n",
    "import numpy as np\n",
    "\n",
    "# For visualization\n",
    "import matplotlib.pyplot as plt\n",
    "import seaborn as sns\n",
    "sns.set_style('whitegrid')\n",
    "%matplotlib inline"
   ]
  },
  {
   "cell_type": "code",
   "execution_count": 4,
   "metadata": {
    "collapsed": false
   },
   "outputs": [],
   "source": [
    "# Use to grab data from the web(HTTP capabilities)\n",
    "import requests\n",
    "\n",
    "# We'll also use StringIO to work with the csv file, the DataFrame will require a .read() method\n",
    "from io import StringIO"
   ]
  },
  {
   "cell_type": "code",
   "execution_count": 5,
   "metadata": {
    "collapsed": true
   },
   "outputs": [],
   "source": [
    "# This is the url link for the poll data in csv form\n",
    "url = \"http://elections.huffingtonpost.com/pollster/2012-general-election-romney-vs-obama.csv\"\n",
    "\n",
    "# Use requests to get the information in text form\n",
    "source = requests.get(url).text\n",
    "\n",
    "# Use StringIO to avoid an IO error with pandas\n",
    "poll_data = StringIO(source) "
   ]
  },
  {
   "cell_type": "code",
   "execution_count": 7,
   "metadata": {
    "collapsed": false
   },
   "outputs": [],
   "source": [
    "poll_df = pd.read_csv(poll_data)"
   ]
  },
  {
   "cell_type": "code",
   "execution_count": 8,
   "metadata": {
    "collapsed": false
   },
   "outputs": [
    {
     "data": {
      "text/html": [
       "<div>\n",
       "<table border=\"1\" class=\"dataframe\">\n",
       "  <thead>\n",
       "    <tr style=\"text-align: right;\">\n",
       "      <th></th>\n",
       "      <th>Pollster</th>\n",
       "      <th>Start Date</th>\n",
       "      <th>End Date</th>\n",
       "      <th>Entry Date/Time (ET)</th>\n",
       "      <th>Number of Observations</th>\n",
       "      <th>Population</th>\n",
       "      <th>Mode</th>\n",
       "      <th>Obama</th>\n",
       "      <th>Romney</th>\n",
       "      <th>Undecided</th>\n",
       "      <th>Other</th>\n",
       "      <th>Pollster URL</th>\n",
       "      <th>Source URL</th>\n",
       "      <th>Partisan</th>\n",
       "      <th>Affiliation</th>\n",
       "      <th>Question Text</th>\n",
       "      <th>Question Iteration</th>\n",
       "    </tr>\n",
       "  </thead>\n",
       "  <tbody>\n",
       "    <tr>\n",
       "      <th>0</th>\n",
       "      <td>Politico/GWU/Battleground</td>\n",
       "      <td>2012-11-04</td>\n",
       "      <td>2012-11-05</td>\n",
       "      <td>2012-11-06T08:40:26Z</td>\n",
       "      <td>1000.0</td>\n",
       "      <td>Likely Voters</td>\n",
       "      <td>Live Phone</td>\n",
       "      <td>47.0</td>\n",
       "      <td>47.0</td>\n",
       "      <td>6.0</td>\n",
       "      <td>NaN</td>\n",
       "      <td>http://elections.huffingtonpost.com/pollster/p...</td>\n",
       "      <td>http://www.politico.com/news/stories/1112/8338...</td>\n",
       "      <td>Nonpartisan</td>\n",
       "      <td>None</td>\n",
       "      <td>NaN</td>\n",
       "      <td>1</td>\n",
       "    </tr>\n",
       "    <tr>\n",
       "      <th>1</th>\n",
       "      <td>YouGov/Economist</td>\n",
       "      <td>2012-11-03</td>\n",
       "      <td>2012-11-05</td>\n",
       "      <td>2012-11-26T15:31:23Z</td>\n",
       "      <td>740.0</td>\n",
       "      <td>Likely Voters</td>\n",
       "      <td>Internet</td>\n",
       "      <td>49.0</td>\n",
       "      <td>47.0</td>\n",
       "      <td>3.0</td>\n",
       "      <td>NaN</td>\n",
       "      <td>http://elections.huffingtonpost.com/pollster/p...</td>\n",
       "      <td>http://cdn.yougov.com/cumulus_uploads/document...</td>\n",
       "      <td>Nonpartisan</td>\n",
       "      <td>None</td>\n",
       "      <td>NaN</td>\n",
       "      <td>1</td>\n",
       "    </tr>\n",
       "    <tr>\n",
       "      <th>2</th>\n",
       "      <td>Gravis Marketing</td>\n",
       "      <td>2012-11-03</td>\n",
       "      <td>2012-11-05</td>\n",
       "      <td>2012-11-06T09:22:02Z</td>\n",
       "      <td>872.0</td>\n",
       "      <td>Likely Voters</td>\n",
       "      <td>Automated Phone</td>\n",
       "      <td>48.0</td>\n",
       "      <td>48.0</td>\n",
       "      <td>4.0</td>\n",
       "      <td>NaN</td>\n",
       "      <td>http://elections.huffingtonpost.com/pollster/p...</td>\n",
       "      <td>http://www.gravispolls.com/2012/11/gravis-mark...</td>\n",
       "      <td>Nonpartisan</td>\n",
       "      <td>None</td>\n",
       "      <td>NaN</td>\n",
       "      <td>1</td>\n",
       "    </tr>\n",
       "    <tr>\n",
       "      <th>3</th>\n",
       "      <td>IBD/TIPP</td>\n",
       "      <td>2012-11-03</td>\n",
       "      <td>2012-11-05</td>\n",
       "      <td>2012-11-06T08:51:48Z</td>\n",
       "      <td>712.0</td>\n",
       "      <td>Likely Voters</td>\n",
       "      <td>Live Phone</td>\n",
       "      <td>50.0</td>\n",
       "      <td>49.0</td>\n",
       "      <td>NaN</td>\n",
       "      <td>1.0</td>\n",
       "      <td>http://elections.huffingtonpost.com/pollster/p...</td>\n",
       "      <td>http://news.investors.com/special-report/50841...</td>\n",
       "      <td>Nonpartisan</td>\n",
       "      <td>None</td>\n",
       "      <td>NaN</td>\n",
       "      <td>1</td>\n",
       "    </tr>\n",
       "    <tr>\n",
       "      <th>4</th>\n",
       "      <td>Rasmussen</td>\n",
       "      <td>2012-11-03</td>\n",
       "      <td>2012-11-05</td>\n",
       "      <td>2012-11-06T08:47:50Z</td>\n",
       "      <td>1500.0</td>\n",
       "      <td>Likely Voters</td>\n",
       "      <td>Automated Phone</td>\n",
       "      <td>48.0</td>\n",
       "      <td>49.0</td>\n",
       "      <td>NaN</td>\n",
       "      <td>NaN</td>\n",
       "      <td>http://elections.huffingtonpost.com/pollster/p...</td>\n",
       "      <td>http://www.rasmussenreports.com/public_content...</td>\n",
       "      <td>Nonpartisan</td>\n",
       "      <td>None</td>\n",
       "      <td>NaN</td>\n",
       "      <td>1</td>\n",
       "    </tr>\n",
       "  </tbody>\n",
       "</table>\n",
       "</div>"
      ],
      "text/plain": [
       "                    Pollster  Start Date    End Date  Entry Date/Time (ET)  \\\n",
       "0  Politico/GWU/Battleground  2012-11-04  2012-11-05  2012-11-06T08:40:26Z   \n",
       "1           YouGov/Economist  2012-11-03  2012-11-05  2012-11-26T15:31:23Z   \n",
       "2           Gravis Marketing  2012-11-03  2012-11-05  2012-11-06T09:22:02Z   \n",
       "3                   IBD/TIPP  2012-11-03  2012-11-05  2012-11-06T08:51:48Z   \n",
       "4                  Rasmussen  2012-11-03  2012-11-05  2012-11-06T08:47:50Z   \n",
       "\n",
       "   Number of Observations     Population             Mode  Obama  Romney  \\\n",
       "0                  1000.0  Likely Voters       Live Phone   47.0    47.0   \n",
       "1                   740.0  Likely Voters         Internet   49.0    47.0   \n",
       "2                   872.0  Likely Voters  Automated Phone   48.0    48.0   \n",
       "3                   712.0  Likely Voters       Live Phone   50.0    49.0   \n",
       "4                  1500.0  Likely Voters  Automated Phone   48.0    49.0   \n",
       "\n",
       "   Undecided  Other                                       Pollster URL  \\\n",
       "0        6.0    NaN  http://elections.huffingtonpost.com/pollster/p...   \n",
       "1        3.0    NaN  http://elections.huffingtonpost.com/pollster/p...   \n",
       "2        4.0    NaN  http://elections.huffingtonpost.com/pollster/p...   \n",
       "3        NaN    1.0  http://elections.huffingtonpost.com/pollster/p...   \n",
       "4        NaN    NaN  http://elections.huffingtonpost.com/pollster/p...   \n",
       "\n",
       "                                          Source URL     Partisan Affiliation  \\\n",
       "0  http://www.politico.com/news/stories/1112/8338...  Nonpartisan        None   \n",
       "1  http://cdn.yougov.com/cumulus_uploads/document...  Nonpartisan        None   \n",
       "2  http://www.gravispolls.com/2012/11/gravis-mark...  Nonpartisan        None   \n",
       "3  http://news.investors.com/special-report/50841...  Nonpartisan        None   \n",
       "4  http://www.rasmussenreports.com/public_content...  Nonpartisan        None   \n",
       "\n",
       "   Question Text  Question Iteration  \n",
       "0            NaN                   1  \n",
       "1            NaN                   1  \n",
       "2            NaN                   1  \n",
       "3            NaN                   1  \n",
       "4            NaN                   1  "
      ]
     },
     "execution_count": 8,
     "metadata": {},
     "output_type": "execute_result"
    }
   ],
   "source": [
    "poll_df.head()"
   ]
  },
  {
   "cell_type": "code",
   "execution_count": 10,
   "metadata": {
    "collapsed": false
   },
   "outputs": [
    {
     "data": {
      "text/plain": [
       "<bound method DataFrame.describe of                                 Pollster  Start Date    End Date  \\\n",
       "0              Politico/GWU/Battleground  2012-11-04  2012-11-05   \n",
       "1                       YouGov/Economist  2012-11-03  2012-11-05   \n",
       "2                       Gravis Marketing  2012-11-03  2012-11-05   \n",
       "3                               IBD/TIPP  2012-11-03  2012-11-05   \n",
       "4                              Rasmussen  2012-11-03  2012-11-05   \n",
       "5                   JZ Analytics/Newsmax  2012-11-03  2012-11-05   \n",
       "6                             UPI/CVOTER  2012-11-03  2012-11-05   \n",
       "7                    Ipsos/Reuters (Web)  2012-11-01  2012-11-05   \n",
       "8                                    ARG  2012-11-02  2012-11-04   \n",
       "9    PPP (D-Americans United for Change)  2012-11-02  2012-11-04   \n",
       "10                                   CNN  2012-11-02  2012-11-04   \n",
       "11                              ABC/Post  2012-11-01  2012-11-04   \n",
       "12                                Gallup  2012-11-01  2012-11-04   \n",
       "13                 DailyKos/SEIU/PPP (D)  2012-11-01  2012-11-04   \n",
       "14                              Monmouth  2012-11-01  2012-11-04   \n",
       "15                   Democracy Corps (D)  2012-11-01  2012-11-04   \n",
       "16                            Angus-Reid  2012-11-01  2012-11-03   \n",
       "17                               NBC/WSJ  2012-11-01  2012-11-03   \n",
       "18                                YouGov  2012-10-31  2012-11-03   \n",
       "19                                   Pew  2012-10-31  2012-11-03   \n",
       "20                            UPI/CVOTER  2012-11-02  2012-11-02   \n",
       "21                             Rasmussen  2012-10-31  2012-11-02   \n",
       "22                     Purple Strategies  2012-10-31  2012-11-01   \n",
       "23                  JZ Analytics/Newsmax  2012-10-30  2012-11-01   \n",
       "24   PPP (D-Americans United for Change)  2012-10-30  2012-11-01   \n",
       "25             Politico/GWU/Battleground  2012-10-29  2012-11-01   \n",
       "26                            UPI/CVOTER  2012-10-26  2012-11-01   \n",
       "27         Washington Times/JZ Analytics  2012-10-29  2012-10-31   \n",
       "28                              ABC/Post  2012-10-28  2012-10-31   \n",
       "29                   Ipsos/Reuters (Web)  2012-10-27  2012-10-31   \n",
       "..                                   ...         ...         ...   \n",
       "560                                  CNN  2010-10-27  2010-10-30   \n",
       "561                                  FOX  2010-09-28  2010-09-29   \n",
       "562                              PPP (D)  2010-09-10  2010-09-13   \n",
       "563       Politico / Penn Schoen Berland  2010-08-06  2010-08-11   \n",
       "564                              PPP (D)  2010-08-06  2010-08-09   \n",
       "565                     Zogby (Internet)  2010-07-16  2010-07-19   \n",
       "566       Politico / Penn Schoen Berland  2010-07-09  2010-07-14   \n",
       "567                              PPP (D)  2010-07-09  2010-07-12   \n",
       "568                              PPP (D)  2010-06-04  2010-06-07   \n",
       "569                              PPP (D)  2010-05-07  2010-05-09   \n",
       "570                                  CNN  2010-04-09  2010-04-11   \n",
       "571                              PPP (D)  2010-04-09  2010-04-11   \n",
       "572                               Clarus  2010-03-17  2010-03-20   \n",
       "573                              PPP (D)  2010-03-12  2010-03-14   \n",
       "574                              PPP (D)  2010-02-13  2010-02-15   \n",
       "575                              PPP (D)  2010-01-18  2010-01-19   \n",
       "576                                  FOX  2010-01-12  2010-01-13   \n",
       "577                              PPP (D)  2009-12-04  2009-12-07   \n",
       "578                            Rasmussen  2009-11-24  2009-11-24   \n",
       "579                              PPP (D)  2009-11-13  2009-11-15   \n",
       "580                              PPP (D)  2009-10-16  2009-10-19   \n",
       "581                              PPP (D)  2009-09-21  2009-09-21   \n",
       "582                               Clarus  2009-08-14  2009-08-18   \n",
       "583                              PPP (D)  2009-08-14  2009-08-17   \n",
       "584                            Rasmussen  2009-07-18  2009-07-19   \n",
       "585                              PPP (D)  2009-07-15  2009-07-16   \n",
       "586                              PPP (D)  2009-06-12  2009-06-16   \n",
       "587                              PPP (D)  2009-05-14  2009-05-18   \n",
       "588                              PPP (D)  2009-04-17  2009-04-19   \n",
       "589                              PPP (D)  2009-03-13  2009-03-15   \n",
       "\n",
       "     Entry Date/Time (ET)  Number of Observations         Population  \\\n",
       "0    2012-11-06T08:40:26Z                  1000.0      Likely Voters   \n",
       "1    2012-11-26T15:31:23Z                   740.0      Likely Voters   \n",
       "2    2012-11-06T09:22:02Z                   872.0      Likely Voters   \n",
       "3    2012-11-06T08:51:48Z                   712.0      Likely Voters   \n",
       "4    2012-11-06T08:47:50Z                  1500.0      Likely Voters   \n",
       "5    2012-11-06T07:38:41Z                  1041.0      Likely Voters   \n",
       "6    2012-11-05T18:30:15Z                  3000.0      Likely Voters   \n",
       "7    2012-11-05T16:12:48Z                  4725.0      Likely Voters   \n",
       "8    2012-11-05T13:06:54Z                  1200.0      Likely Voters   \n",
       "9    2012-11-04T22:32:19Z                  1200.0      Likely Voters   \n",
       "10   2012-11-04T20:16:09Z                   693.0      Likely Voters   \n",
       "11   2012-11-05T16:56:22Z                  2345.0      Likely Voters   \n",
       "12   2012-11-05T13:48:29Z                  2551.0      Likely Voters   \n",
       "13   2012-11-05T13:31:31Z                  1300.0      Likely Voters   \n",
       "14   2012-11-05T12:52:03Z                  1417.0      Likely Voters   \n",
       "15   2012-11-05T09:41:50Z                  1080.0      Likely Voters   \n",
       "16   2012-11-06T08:47:46Z                  1019.0      Likely Voters   \n",
       "17   2012-11-04T09:12:21Z                  1475.0      Likely Voters   \n",
       "18   2012-11-04T16:24:50Z                 36472.0      Likely Voters   \n",
       "19   2012-11-04T15:46:59Z                  2709.0      Likely Voters   \n",
       "20   2012-11-03T16:40:44Z                  1074.0      Likely Voters   \n",
       "21   2012-11-03T10:54:09Z                  1500.0      Likely Voters   \n",
       "22   2012-11-02T12:31:41Z                  1000.0      Likely Voters   \n",
       "23   2012-11-02T22:57:27Z                  1030.0      Likely Voters   \n",
       "24   2012-11-02T05:46:11Z                  1200.0      Likely Voters   \n",
       "25   2012-11-04T08:42:53Z                  1000.0      Likely Voters   \n",
       "26   2012-11-02T11:49:24Z                  1094.0      Likely Voters   \n",
       "27   2012-11-04T06:37:30Z                   800.0      Likely Voters   \n",
       "28   2012-11-01T17:05:21Z                  1293.0      Likely Voters   \n",
       "29   2012-10-31T14:56:53Z                  4085.0      Likely Voters   \n",
       "..                    ...                     ...                ...   \n",
       "560  2010-11-08T12:06:30Z                   921.0  Registered Voters   \n",
       "561  2010-11-08T12:04:22Z                   900.0  Registered Voters   \n",
       "562  2010-09-17T15:16:02Z                   590.0  Registered Voters   \n",
       "563  2010-11-08T12:00:01Z                  1668.0             Adults   \n",
       "564  2010-08-13T03:54:21Z                   606.0  Registered Voters   \n",
       "565  2010-11-08T11:54:08Z                  8487.0      Likely Voters   \n",
       "566  2010-11-08T11:50:54Z                  1011.0             Adults   \n",
       "567  2010-07-15T08:49:24Z                   667.0  Registered Voters   \n",
       "568  2010-06-10T12:17:39Z                   650.0  Registered Voters   \n",
       "569  2010-05-12T15:17:23Z                   707.0  Registered Voters   \n",
       "570  2010-11-08T11:40:42Z                   907.0  Registered Voters   \n",
       "571  2010-04-15T09:22:40Z                   622.0  Registered Voters   \n",
       "572  2010-11-08T11:36:08Z                  1050.0  Registered Voters   \n",
       "573  2010-03-18T09:19:18Z                  1403.0  Registered Voters   \n",
       "574  2010-02-18T10:39:08Z                   743.0  Registered Voters   \n",
       "575  2010-01-22T10:41:32Z                  1151.0  Registered Voters   \n",
       "576  2010-11-08T11:26:58Z                   900.0  Registered Voters   \n",
       "577  2009-12-10T08:10:07Z                  1253.0  Registered Voters   \n",
       "578  2009-11-25T08:50:13Z                   800.0      Likely Voters   \n",
       "579  2009-11-20T08:45:21Z                  1066.0  Registered Voters   \n",
       "580  2009-10-22T08:16:05Z                   766.0  Registered Voters   \n",
       "581  2009-09-24T10:45:45Z                   621.0  Registered Voters   \n",
       "582  2010-11-08T11:11:21Z                  1003.0  Registered Voters   \n",
       "583  2009-08-20T08:31:37Z                   909.0  Registered Voters   \n",
       "584  2010-11-08T11:05:08Z                  1000.0      Likely Voters   \n",
       "585  2010-11-08T11:02:37Z                   577.0  Registered Voters   \n",
       "586  2010-11-08T10:58:00Z                   638.0  Registered Voters   \n",
       "587  2010-11-08T10:49:08Z                  1000.0  Registered Voters   \n",
       "588  2010-11-08T10:45:18Z                   686.0  Registered Voters   \n",
       "589  2010-11-08T10:36:31Z                  1403.0  Registered Voters   \n",
       "\n",
       "                Mode  Obama  Romney  Undecided  Other  \\\n",
       "0         Live Phone   47.0    47.0        6.0    NaN   \n",
       "1           Internet   49.0    47.0        3.0    NaN   \n",
       "2    Automated Phone   48.0    48.0        4.0    NaN   \n",
       "3         Live Phone   50.0    49.0        NaN    1.0   \n",
       "4    Automated Phone   48.0    49.0        NaN    NaN   \n",
       "5           Internet   47.0    47.0        6.0    NaN   \n",
       "6         Live Phone   49.0    48.0        NaN    NaN   \n",
       "7           Internet   48.0    46.0        4.0    2.0   \n",
       "8         Live Phone   49.0    49.0        1.0    1.0   \n",
       "9    Automated Phone   50.0    48.0        3.0    NaN   \n",
       "10        Live Phone   49.0    49.0        2.0    NaN   \n",
       "11        Live Phone   50.0    47.0        1.0    1.0   \n",
       "12        Live Phone   48.0    49.0        NaN    NaN   \n",
       "13   Automated Phone   50.0    48.0        2.0    NaN   \n",
       "14    IVR/Live Phone   48.0    48.0        2.0    2.0   \n",
       "15        Live Phone   49.0    45.0        NaN    1.0   \n",
       "16          Internet   51.0    48.0        NaN    1.0   \n",
       "17        Live Phone   48.0    47.0        3.0    2.0   \n",
       "18          Internet   49.0    47.0        3.0    NaN   \n",
       "19        Live Phone   48.0    45.0        NaN    3.0   \n",
       "20        Live Phone   49.0    48.0        NaN    NaN   \n",
       "21   Automated Phone   48.0    48.0        2.0    1.0   \n",
       "22        IVR/Online   47.0    46.0        7.0    NaN   \n",
       "23          Internet   48.0    46.0        6.0    NaN   \n",
       "24   Automated Phone   49.0    48.0        3.0    NaN   \n",
       "25        Live Phone   48.0    48.0        3.0    NaN   \n",
       "26        Live Phone   48.0    48.0        NaN    NaN   \n",
       "27        Live Phone   49.0    49.0        NaN    NaN   \n",
       "28        Live Phone   49.0    48.0        NaN    NaN   \n",
       "29          Internet   47.0    46.0        4.0    3.0   \n",
       "..               ...    ...     ...        ...    ...   \n",
       "560       Live Phone   45.0    50.0        1.0    3.0   \n",
       "561       Live Phone   41.0    40.0       11.0    7.0   \n",
       "562  Automated Phone   46.0    43.0       11.0    NaN   \n",
       "563         Internet   42.0    33.0       24.0    NaN   \n",
       "564  Automated Phone   45.0    42.0       13.0    NaN   \n",
       "565         Internet   45.0    43.0        NaN    NaN   \n",
       "566         Internet   39.0    35.0       26.0    NaN   \n",
       "567  Automated Phone   43.0    46.0       11.0    NaN   \n",
       "568  Automated Phone   45.0    42.0       13.0    NaN   \n",
       "569  Automated Phone   46.0    44.0       11.0    NaN   \n",
       "570       Live Phone   53.0    45.0        NaN    1.0   \n",
       "571  Automated Phone   44.0    45.0       10.0    NaN   \n",
       "572       Live Phone   45.0    41.0       14.0    NaN   \n",
       "573  Automated Phone   44.0    44.0       12.0    NaN   \n",
       "574  Automated Phone   45.0    43.0       12.0    NaN   \n",
       "575  Automated Phone   44.0    42.0       15.0    NaN   \n",
       "576       Live Phone   47.0    35.0       10.0    5.0   \n",
       "577  Automated Phone   47.0    42.0       12.0    NaN   \n",
       "578  Automated Phone   44.0    44.0        5.0    6.0   \n",
       "579  Automated Phone   48.0    43.0        9.0    NaN   \n",
       "580  Automated Phone   48.0    40.0       12.0    NaN   \n",
       "581  Automated Phone   48.0    39.0       13.0    NaN   \n",
       "582       Live Phone   47.0    38.0       15.0    NaN   \n",
       "583  Automated Phone   47.0    40.0       12.0    NaN   \n",
       "584  Automated Phone   45.0    45.0        3.0    7.0   \n",
       "585  Automated Phone   49.0    40.0       11.0    NaN   \n",
       "586  Automated Phone   48.0    40.0       12.0    NaN   \n",
       "587  Automated Phone   53.0    35.0       12.0    NaN   \n",
       "588  Automated Phone   50.0    39.0       11.0    NaN   \n",
       "589  Automated Phone   44.0    44.0       12.0    NaN   \n",
       "\n",
       "                                          Pollster URL  \\\n",
       "0    http://elections.huffingtonpost.com/pollster/p...   \n",
       "1    http://elections.huffingtonpost.com/pollster/p...   \n",
       "2    http://elections.huffingtonpost.com/pollster/p...   \n",
       "3    http://elections.huffingtonpost.com/pollster/p...   \n",
       "4    http://elections.huffingtonpost.com/pollster/p...   \n",
       "5    http://elections.huffingtonpost.com/pollster/p...   \n",
       "6    http://elections.huffingtonpost.com/pollster/p...   \n",
       "7    http://elections.huffingtonpost.com/pollster/p...   \n",
       "8    http://elections.huffingtonpost.com/pollster/p...   \n",
       "9    http://elections.huffingtonpost.com/pollster/p...   \n",
       "10   http://elections.huffingtonpost.com/pollster/p...   \n",
       "11   http://elections.huffingtonpost.com/pollster/p...   \n",
       "12   http://elections.huffingtonpost.com/pollster/p...   \n",
       "13   http://elections.huffingtonpost.com/pollster/p...   \n",
       "14   http://elections.huffingtonpost.com/pollster/p...   \n",
       "15   http://elections.huffingtonpost.com/pollster/p...   \n",
       "16   http://elections.huffingtonpost.com/pollster/p...   \n",
       "17   http://elections.huffingtonpost.com/pollster/p...   \n",
       "18   http://elections.huffingtonpost.com/pollster/p...   \n",
       "19   http://elections.huffingtonpost.com/pollster/p...   \n",
       "20   http://elections.huffingtonpost.com/pollster/p...   \n",
       "21   http://elections.huffingtonpost.com/pollster/p...   \n",
       "22   http://elections.huffingtonpost.com/pollster/p...   \n",
       "23   http://elections.huffingtonpost.com/pollster/p...   \n",
       "24   http://elections.huffingtonpost.com/pollster/p...   \n",
       "25   http://elections.huffingtonpost.com/pollster/p...   \n",
       "26   http://elections.huffingtonpost.com/pollster/p...   \n",
       "27   http://elections.huffingtonpost.com/pollster/p...   \n",
       "28   http://elections.huffingtonpost.com/pollster/p...   \n",
       "29   http://elections.huffingtonpost.com/pollster/p...   \n",
       "..                                                 ...   \n",
       "560  http://elections.huffingtonpost.com/pollster/p...   \n",
       "561  http://elections.huffingtonpost.com/pollster/p...   \n",
       "562  http://elections.huffingtonpost.com/pollster/p...   \n",
       "563  http://elections.huffingtonpost.com/pollster/p...   \n",
       "564  http://elections.huffingtonpost.com/pollster/p...   \n",
       "565  http://elections.huffingtonpost.com/pollster/p...   \n",
       "566  http://elections.huffingtonpost.com/pollster/p...   \n",
       "567  http://elections.huffingtonpost.com/pollster/p...   \n",
       "568  http://elections.huffingtonpost.com/pollster/p...   \n",
       "569  http://elections.huffingtonpost.com/pollster/p...   \n",
       "570  http://elections.huffingtonpost.com/pollster/p...   \n",
       "571  http://elections.huffingtonpost.com/pollster/p...   \n",
       "572  http://elections.huffingtonpost.com/pollster/p...   \n",
       "573  http://elections.huffingtonpost.com/pollster/p...   \n",
       "574  http://elections.huffingtonpost.com/pollster/p...   \n",
       "575  http://elections.huffingtonpost.com/pollster/p...   \n",
       "576  http://elections.huffingtonpost.com/pollster/p...   \n",
       "577  http://elections.huffingtonpost.com/pollster/p...   \n",
       "578  http://elections.huffingtonpost.com/pollster/p...   \n",
       "579  http://elections.huffingtonpost.com/pollster/p...   \n",
       "580  http://elections.huffingtonpost.com/pollster/p...   \n",
       "581  http://elections.huffingtonpost.com/pollster/p...   \n",
       "582  http://elections.huffingtonpost.com/pollster/p...   \n",
       "583  http://elections.huffingtonpost.com/pollster/p...   \n",
       "584  http://elections.huffingtonpost.com/pollster/p...   \n",
       "585  http://elections.huffingtonpost.com/pollster/p...   \n",
       "586  http://elections.huffingtonpost.com/pollster/p...   \n",
       "587  http://elections.huffingtonpost.com/pollster/p...   \n",
       "588  http://elections.huffingtonpost.com/pollster/p...   \n",
       "589  http://elections.huffingtonpost.com/pollster/p...   \n",
       "\n",
       "                                            Source URL     Partisan  \\\n",
       "0    http://www.politico.com/news/stories/1112/8338...  Nonpartisan   \n",
       "1    http://cdn.yougov.com/cumulus_uploads/document...  Nonpartisan   \n",
       "2    http://www.gravispolls.com/2012/11/gravis-mark...  Nonpartisan   \n",
       "3    http://news.investors.com/special-report/50841...  Nonpartisan   \n",
       "4    http://www.rasmussenreports.com/public_content...  Nonpartisan   \n",
       "5                          http://www.jzanalytics.com/  Nonpartisan   \n",
       "6                                                  NaN  Nonpartisan   \n",
       "7    http://big.assets.huffingtonpost.com/ipsos1105...  Nonpartisan   \n",
       "8    http://americanresearchgroup.com/pres2012/NA12...  Nonpartisan   \n",
       "9    http://www.publicpolicypolling.com/pdf/2011/PP...     Pollster   \n",
       "10   http://i2.cdn.turner.com/cnn/2012/images/11/04...  Nonpartisan   \n",
       "11   http://www.washingtonpost.com/blogs/the-fix/wp...  Nonpartisan   \n",
       "12   http://www.gallup.com/poll/157817/election-201...  Nonpartisan   \n",
       "13     http://www.dailykos.com/weeklypolling/2012/11/1     Pollster   \n",
       "14   http://cms.monmouth.edu/assets/0/84/159/214748...  Nonpartisan   \n",
       "15   http://big.assets.huffingtonpost.com/demcorpst...     Pollster   \n",
       "16   http://www.angus-reid.com/polls/47681/obama-ho...  Nonpartisan   \n",
       "17   http://firstread.nbcnews.com/_news/2012/11/04/...  Nonpartisan   \n",
       "18   http://cdn.yougov.com/r/1/ygTabs_november_like...  Nonpartisan   \n",
       "19   http://www.people-press.org/2012/11/04/obama-g...  Nonpartisan   \n",
       "20                                                 NaN  Nonpartisan   \n",
       "21   http://www.rasmussenreports.com/public_content...  Nonpartisan   \n",
       "22   http://www.purplestrategies.com/wp-content/upl...  Nonpartisan   \n",
       "23                         http://www.jzanalytics.com/  Nonpartisan   \n",
       "24   http://www.publicpolicypolling.com/pdf/2011/PP...     Pollster   \n",
       "25   https://mediarelations.gwu.edu/sites/mediarela...  Nonpartisan   \n",
       "26   http://www.scribd.com/doc/111916274/UPI-CVoter...  Nonpartisan   \n",
       "27   http://www.washingtontimes.com/news/2012/nov/1...  Nonpartisan   \n",
       "28   http://www.washingtonpost.com/blogs/the-fix/wp...  Nonpartisan   \n",
       "29   http://big.assets.huffingtonpost.com/ipsos1031...  Nonpartisan   \n",
       "..                                                 ...          ...   \n",
       "560  http://politicalticker.blogs.cnn.com/2010/11/0...  Nonpartisan   \n",
       "561  http://www.foxnews.com/projects/pdf/100110_fox...  Nonpartisan   \n",
       "562  http://www.publicpolicypolling.com/pdf/PPP_Rel...     Pollster   \n",
       "563  http://www.politico.com/static/PPM152_1008013_...  Nonpartisan   \n",
       "564  http://www.publicpolicypolling.com/pdf/PPP_Rel...     Pollster   \n",
       "565  http://politics.usnews.com/news/blogs/washingt...  Nonpartisan   \n",
       "566  http://www.politico.com/static/PPM136_100718_p...  Nonpartisan   \n",
       "567  http://www.publicpolicypolling.com/pdf/PPP_Rel...     Pollster   \n",
       "568  http://www.publicpolicypolling.com/pdf/PPP_Rel...     Pollster   \n",
       "569  http://www.publicpolicypolling.com/pdf/PPP_Rel...     Pollster   \n",
       "570  http://i2.cdn.turner.com/cnn/2010/images/04/13...  Nonpartisan   \n",
       "571  http://www.publicpolicypolling.com/pdf/PPP_Rel...     Pollster   \n",
       "572  http://www.clarusrg.com/sites/default/files/Cl...  Nonpartisan   \n",
       "573  http://www.publicpolicypolling.com/pdf/PPP_Rel...     Pollster   \n",
       "574  http://www.publicpolicypolling.com/pdf/PPP_Rel...     Pollster   \n",
       "575  http://www.publicpolicypolling.com/pdf/PPP_Rel...     Pollster   \n",
       "576  http://www.foxnews.com/projects/pdf/012110_pol...  Nonpartisan   \n",
       "577  http://www.publicpolicypolling.com/pdf/surveys...     Pollster   \n",
       "578  http://www.rasmussenreports.com/public_content...  Nonpartisan   \n",
       "579  http://www.publicpolicypolling.com/pdf/surveys...     Pollster   \n",
       "580  http://www.publicpolicypolling.com/pdf/surveys...     Pollster   \n",
       "581  http://www.publicpolicypolling.com/pdf/surveys...     Pollster   \n",
       "582  http://www.clarusrg.com/press_releases/2009/Ob...  Nonpartisan   \n",
       "583  http://www.publicpolicypolling.com/pdf/surveys...     Pollster   \n",
       "584  http://www.rasmussenreports.com/public_content...  Nonpartisan   \n",
       "585  http://www.publicpolicypolling.com/pdf/surveys...     Pollster   \n",
       "586  http://www.publicpolicypolling.com/pdf/surveys...     Pollster   \n",
       "587  http://www.publicpolicypolling.com/pdf/surveys...     Pollster   \n",
       "588  http://www.publicpolicypolling.com/pdf/surveys...     Pollster   \n",
       "589  http://www.publicpolicypolling.com/pdf/PPP_Rel...     Pollster   \n",
       "\n",
       "    Affiliation  Question Text  Question Iteration  \n",
       "0          None            NaN                   1  \n",
       "1          None            NaN                   1  \n",
       "2          None            NaN                   1  \n",
       "3          None            NaN                   1  \n",
       "4          None            NaN                   1  \n",
       "5          None            NaN                   1  \n",
       "6          None            NaN                   1  \n",
       "7          None            NaN                   1  \n",
       "8          None            NaN                   1  \n",
       "9           Dem            NaN                   1  \n",
       "10         None            NaN                   1  \n",
       "11         None            NaN                   1  \n",
       "12         None            NaN                   1  \n",
       "13          Dem            NaN                   1  \n",
       "14         None            NaN                   1  \n",
       "15          Dem            NaN                   1  \n",
       "16         None            NaN                   1  \n",
       "17         None            NaN                   1  \n",
       "18         None            NaN                   1  \n",
       "19         None            NaN                   1  \n",
       "20         None            NaN                   1  \n",
       "21         None            NaN                   1  \n",
       "22         None            NaN                   1  \n",
       "23         None            NaN                   1  \n",
       "24          Dem            NaN                   1  \n",
       "25         None            NaN                   1  \n",
       "26         None            NaN                   1  \n",
       "27         None            NaN                   1  \n",
       "28         None            NaN                   1  \n",
       "29         None            NaN                   1  \n",
       "..          ...            ...                 ...  \n",
       "560        None            NaN                   1  \n",
       "561        None            NaN                   1  \n",
       "562         Dem            NaN                   1  \n",
       "563        None            NaN                   1  \n",
       "564         Dem            NaN                   1  \n",
       "565        None            NaN                   1  \n",
       "566        None            NaN                   1  \n",
       "567         Dem            NaN                   1  \n",
       "568         Dem            NaN                   1  \n",
       "569         Dem            NaN                   1  \n",
       "570        None            NaN                   1  \n",
       "571         Dem            NaN                   1  \n",
       "572        None            NaN                   1  \n",
       "573         Dem            NaN                   1  \n",
       "574         Dem            NaN                   1  \n",
       "575         Dem            NaN                   1  \n",
       "576        None            NaN                   1  \n",
       "577         Dem            NaN                   1  \n",
       "578        None            NaN                   1  \n",
       "579         Dem            NaN                   1  \n",
       "580         Dem            NaN                   1  \n",
       "581         Dem            NaN                   1  \n",
       "582        None            NaN                   1  \n",
       "583         Dem            NaN                   1  \n",
       "584        None            NaN                   1  \n",
       "585         Dem            NaN                   1  \n",
       "586         Dem            NaN                   1  \n",
       "587         Dem            NaN                   1  \n",
       "588         Dem            NaN                   1  \n",
       "589         Dem            NaN                   1  \n",
       "\n",
       "[590 rows x 17 columns]>"
      ]
     },
     "execution_count": 10,
     "metadata": {},
     "output_type": "execute_result"
    }
   ],
   "source": [
    "poll_df.describe"
   ]
  },
  {
   "cell_type": "code",
   "execution_count": 11,
   "metadata": {
    "collapsed": false
   },
   "outputs": [
    {
     "name": "stdout",
     "output_type": "stream",
     "text": [
      "<class 'pandas.core.frame.DataFrame'>\n",
      "RangeIndex: 590 entries, 0 to 589\n",
      "Data columns (total 17 columns):\n",
      "Pollster                  590 non-null object\n",
      "Start Date                590 non-null object\n",
      "End Date                  590 non-null object\n",
      "Entry Date/Time (ET)      590 non-null object\n",
      "Number of Observations    568 non-null float64\n",
      "Population                590 non-null object\n",
      "Mode                      590 non-null object\n",
      "Obama                     590 non-null float64\n",
      "Romney                    590 non-null float64\n",
      "Undecided                 423 non-null float64\n",
      "Other                     202 non-null float64\n",
      "Pollster URL              590 non-null object\n",
      "Source URL                588 non-null object\n",
      "Partisan                  590 non-null object\n",
      "Affiliation               590 non-null object\n",
      "Question Text             0 non-null float64\n",
      "Question Iteration        590 non-null int64\n",
      "dtypes: float64(6), int64(1), object(10)\n",
      "memory usage: 78.4+ KB\n"
     ]
    }
   ],
   "source": [
    "poll_df.info()"
   ]
  },
  {
   "cell_type": "code",
   "execution_count": 13,
   "metadata": {
    "collapsed": false
   },
   "outputs": [
    {
     "data": {
      "text/plain": [
       "<seaborn.axisgrid.FacetGrid at 0x10e91f198>"
      ]
     },
     "execution_count": 13,
     "metadata": {},
     "output_type": "execute_result"
    },
    {
     "data": {
      "image/png": "[encoded data removed]",
      "text/plain": [
       "<matplotlib.figure.Figure at 0x10e91fe80>"
      ]
     },
     "metadata": {},
     "output_type": "display_data"
    }
   ],
   "source": [
    "# Factorplot the affiliation\n",
    "sns.factorplot('Affiliation',data=poll_df, kind='count')"
   ]
  },
  {
   "cell_type": "code",
   "execution_count": 14,
   "metadata": {
    "collapsed": false
   },
   "outputs": [
    {
     "data": {
      "text/plain": [
       "<seaborn.axisgrid.FacetGrid at 0x10ea68780>"
      ]
     },
     "execution_count": 14,
     "metadata": {},
     "output_type": "execute_result"
    },
    {
     "data": {
      "image/png": "[encoded data removed]",
      "text/plain": [
       "<matplotlib.figure.Figure at 0x10ea689b0>"
      ]
     },
     "metadata": {},
     "output_type": "display_data"
    }
   ],
   "source": [
    "sns.factorplot('Affiliation',data=poll_df, kind='count', hue='Population')"
   ]
  },
  {
   "cell_type": "code",
   "execution_count": 17,
   "metadata": {
    "collapsed": false
   },
   "outputs": [
    {
     "data": {
      "text/html": [
       "<div>\n",
       "<table border=\"1\" class=\"dataframe\">\n",
       "  <thead>\n",
       "    <tr style=\"text-align: right;\">\n",
       "      <th></th>\n",
       "      <th>0</th>\n",
       "    </tr>\n",
       "  </thead>\n",
       "  <tbody>\n",
       "    <tr>\n",
       "      <th>Number of Observations</th>\n",
       "      <td>1295.390845</td>\n",
       "    </tr>\n",
       "    <tr>\n",
       "      <th>Obama</th>\n",
       "      <td>46.774576</td>\n",
       "    </tr>\n",
       "    <tr>\n",
       "      <th>Romney</th>\n",
       "      <td>44.572881</td>\n",
       "    </tr>\n",
       "    <tr>\n",
       "      <th>Undecided</th>\n",
       "      <td>6.546099</td>\n",
       "    </tr>\n",
       "    <tr>\n",
       "      <th>Other</th>\n",
       "      <td>3.400990</td>\n",
       "    </tr>\n",
       "  </tbody>\n",
       "</table>\n",
       "</div>"
      ],
      "text/plain": [
       "                                  0\n",
       "Number of Observations  1295.390845\n",
       "Obama                     46.774576\n",
       "Romney                    44.572881\n",
       "Undecided                  6.546099\n",
       "Other                      3.400990"
      ]
     },
     "execution_count": 17,
     "metadata": {},
     "output_type": "execute_result"
    }
   ],
   "source": [
    "avg = pd.DataFrame(poll_df.mean())\n",
    "avg.head()"
   ]
  },
  {
   "cell_type": "code",
   "execution_count": 18,
   "metadata": {
    "collapsed": false
   },
   "outputs": [
    {
     "data": {
      "text/html": [
       "<div>\n",
       "<table border=\"1\" class=\"dataframe\">\n",
       "  <thead>\n",
       "    <tr style=\"text-align: right;\">\n",
       "      <th></th>\n",
       "      <th>0</th>\n",
       "    </tr>\n",
       "  </thead>\n",
       "  <tbody>\n",
       "    <tr>\n",
       "      <th>Obama</th>\n",
       "      <td>46.774576</td>\n",
       "    </tr>\n",
       "    <tr>\n",
       "      <th>Romney</th>\n",
       "      <td>44.572881</td>\n",
       "    </tr>\n",
       "    <tr>\n",
       "      <th>Undecided</th>\n",
       "      <td>6.546099</td>\n",
       "    </tr>\n",
       "    <tr>\n",
       "      <th>Other</th>\n",
       "      <td>3.400990</td>\n",
       "    </tr>\n",
       "    <tr>\n",
       "      <th>Question Text</th>\n",
       "      <td>NaN</td>\n",
       "    </tr>\n",
       "  </tbody>\n",
       "</table>\n",
       "</div>"
      ],
      "text/plain": [
       "                       0\n",
       "Obama          46.774576\n",
       "Romney         44.572881\n",
       "Undecided       6.546099\n",
       "Other           3.400990\n",
       "Question Text        NaN"
      ]
     },
     "execution_count": 18,
     "metadata": {},
     "output_type": "execute_result"
    }
   ],
   "source": [
    "avg.drop('Number of Observations',axis=0,inplace=True)\n",
    "avg.head()"
   ]
  },
  {
   "cell_type": "code",
   "execution_count": 19,
   "metadata": {
    "collapsed": true
   },
   "outputs": [],
   "source": [
    "std = pd.DataFrame(poll_df.std())\n",
    "std.drop('Number of Observations',axis=0,inplace=True)"
   ]
  },
  {
   "cell_type": "code",
   "execution_count": 20,
   "metadata": {
    "collapsed": false
   },
   "outputs": [
    {
     "data": {
      "text/html": [
       "<div>\n",
       "<table border=\"1\" class=\"dataframe\">\n",
       "  <thead>\n",
       "    <tr style=\"text-align: right;\">\n",
       "      <th></th>\n",
       "      <th>0</th>\n",
       "    </tr>\n",
       "  </thead>\n",
       "  <tbody>\n",
       "    <tr>\n",
       "      <th>Obama</th>\n",
       "      <td>2.447069</td>\n",
       "    </tr>\n",
       "    <tr>\n",
       "      <th>Romney</th>\n",
       "      <td>2.925320</td>\n",
       "    </tr>\n",
       "    <tr>\n",
       "      <th>Undecided</th>\n",
       "      <td>3.698614</td>\n",
       "    </tr>\n",
       "    <tr>\n",
       "      <th>Other</th>\n",
       "      <td>2.721318</td>\n",
       "    </tr>\n",
       "    <tr>\n",
       "      <th>Question Text</th>\n",
       "      <td>NaN</td>\n",
       "    </tr>\n",
       "  </tbody>\n",
       "</table>\n",
       "</div>"
      ],
      "text/plain": [
       "                      0\n",
       "Obama          2.447069\n",
       "Romney         2.925320\n",
       "Undecided      3.698614\n",
       "Other          2.721318\n",
       "Question Text       NaN"
      ]
     },
     "execution_count": 20,
     "metadata": {},
     "output_type": "execute_result"
    }
   ],
   "source": [
    "std.head()"
   ]
  },
  {
   "cell_type": "code",
   "execution_count": 21,
   "metadata": {
    "collapsed": false
   },
   "outputs": [
    {
     "data": {
      "text/plain": [
       "<matplotlib.axes._subplots.AxesSubplot at 0x10e931400>"
      ]
     },
     "execution_count": 21,
     "metadata": {},
     "output_type": "execute_result"
    },
    {
     "data": {
      "image/png": "[encoded data removed]",
      "text/plain": [
       "<matplotlib.figure.Figure at 0x10ecd82b0>"
      ]
     },
     "metadata": {},
     "output_type": "display_data"
    }
   ],
   "source": [
    "# now plot using pandas built-in plot, with kind='bar' and yerr='std'\n",
    "avg.plot(yerr=std,kind='bar',legend=False)"
   ]
  },
  {
   "cell_type": "code",
   "execution_count": 22,
   "metadata": {
    "collapsed": false
   },
   "outputs": [
    {
     "data": {
      "text/html": [
       "<div>\n",
       "<table border=\"1\" class=\"dataframe\">\n",
       "  <thead>\n",
       "    <tr style=\"text-align: right;\">\n",
       "      <th></th>\n",
       "      <th>Average</th>\n",
       "      <th>STD</th>\n",
       "    </tr>\n",
       "  </thead>\n",
       "  <tbody>\n",
       "    <tr>\n",
       "      <th>Obama</th>\n",
       "      <td>46.774576</td>\n",
       "      <td>2.447069</td>\n",
       "    </tr>\n",
       "    <tr>\n",
       "      <th>Romney</th>\n",
       "      <td>44.572881</td>\n",
       "      <td>2.925320</td>\n",
       "    </tr>\n",
       "    <tr>\n",
       "      <th>Undecided</th>\n",
       "      <td>6.546099</td>\n",
       "      <td>3.698614</td>\n",
       "    </tr>\n",
       "    <tr>\n",
       "      <th>Other</th>\n",
       "      <td>3.400990</td>\n",
       "      <td>2.721318</td>\n",
       "    </tr>\n",
       "    <tr>\n",
       "      <th>Question Text</th>\n",
       "      <td>NaN</td>\n",
       "      <td>NaN</td>\n",
       "    </tr>\n",
       "    <tr>\n",
       "      <th>Question Iteration</th>\n",
       "      <td>1.000000</td>\n",
       "      <td>0.000000</td>\n",
       "    </tr>\n",
       "  </tbody>\n",
       "</table>\n",
       "</div>"
      ],
      "text/plain": [
       "                      Average       STD\n",
       "Obama               46.774576  2.447069\n",
       "Romney              44.572881  2.925320\n",
       "Undecided            6.546099  3.698614\n",
       "Other                3.400990  2.721318\n",
       "Question Text             NaN       NaN\n",
       "Question Iteration   1.000000  0.000000"
      ]
     },
     "execution_count": 22,
     "metadata": {},
     "output_type": "execute_result"
    }
   ],
   "source": [
    "# Concatenate our Average and Std DataFrames\n",
    "poll_avg = pd.concat([avg,std],axis=1)\n",
    "\n",
    "#Rename columns\n",
    "poll_avg.columns = ['Average','STD']\n",
    "\n",
    "#Show\n",
    "poll_avg"
   ]
  },
  {
   "cell_type": "markdown",
   "metadata": {},
   "source": [
    "Looks like the polls indicate it as a fairly close race, but what about the undecided voters? Most of them will likely vote for one of the candidates once the election occurs. If we assume we split the undecided evenly between the two candidates the observed difference should be an unbiased estimate of the final difference."
   ]
  },
  {
   "cell_type": "code",
   "execution_count": 24,
   "metadata": {
    "collapsed": false
   },
   "outputs": [
    {
     "data": {
      "text/plain": [
       "<matplotlib.axes._subplots.AxesSubplot at 0x10cc9a4a8>"
      ]
     },
     "execution_count": 24,
     "metadata": {},
     "output_type": "execute_result"
    },
    {
     "data": {
      "image/png": "[encoded data removed]",
      "text/plain": [
       "<matplotlib.figure.Figure at 0x10cc96f60>"
      ]
     },
     "metadata": {},
     "output_type": "display_data"
    }
   ],
   "source": [
    "# Quick plot of sentiment in the polls versus time.\n",
    "poll_df.plot(x='End Date',y=['Obama','Romney','Undecided'],marker='o',linestyle='')"
   ]
  },
  {
   "cell_type": "code",
   "execution_count": 25,
   "metadata": {
    "collapsed": true
   },
   "outputs": [],
   "source": [
    "poll_df['Difference'] = (poll_df.Obama - poll_df.Romney) / 100"
   ]
  },
  {
   "cell_type": "code",
   "execution_count": 26,
   "metadata": {
    "collapsed": false
   },
   "outputs": [
    {
     "data": {
      "text/html": [
       "<div>\n",
       "<table border=\"1\" class=\"dataframe\">\n",
       "  <thead>\n",
       "    <tr style=\"text-align: right;\">\n",
       "      <th></th>\n",
       "      <th>Pollster</th>\n",
       "      <th>Start Date</th>\n",
       "      <th>End Date</th>\n",
       "      <th>Entry Date/Time (ET)</th>\n",
       "      <th>Number of Observations</th>\n",
       "      <th>Population</th>\n",
       "      <th>Mode</th>\n",
       "      <th>Obama</th>\n",
       "      <th>Romney</th>\n",
       "      <th>Undecided</th>\n",
       "      <th>Other</th>\n",
       "      <th>Pollster URL</th>\n",
       "      <th>Source URL</th>\n",
       "      <th>Partisan</th>\n",
       "      <th>Affiliation</th>\n",
       "      <th>Question Text</th>\n",
       "      <th>Question Iteration</th>\n",
       "      <th>Difference</th>\n",
       "    </tr>\n",
       "  </thead>\n",
       "  <tbody>\n",
       "    <tr>\n",
       "      <th>0</th>\n",
       "      <td>Politico/GWU/Battleground</td>\n",
       "      <td>2012-11-04</td>\n",
       "      <td>2012-11-05</td>\n",
       "      <td>2012-11-06T08:40:26Z</td>\n",
       "      <td>1000.0</td>\n",
       "      <td>Likely Voters</td>\n",
       "      <td>Live Phone</td>\n",
       "      <td>47.0</td>\n",
       "      <td>47.0</td>\n",
       "      <td>6.0</td>\n",
       "      <td>NaN</td>\n",
       "      <td>http://elections.huffingtonpost.com/pollster/p...</td>\n",
       "      <td>http://www.politico.com/news/stories/1112/8338...</td>\n",
       "      <td>Nonpartisan</td>\n",
       "      <td>None</td>\n",
       "      <td>NaN</td>\n",
       "      <td>1</td>\n",
       "      <td>0.00</td>\n",
       "    </tr>\n",
       "    <tr>\n",
       "      <th>1</th>\n",
       "      <td>YouGov/Economist</td>\n",
       "      <td>2012-11-03</td>\n",
       "      <td>2012-11-05</td>\n",
       "      <td>2012-11-26T15:31:23Z</td>\n",
       "      <td>740.0</td>\n",
       "      <td>Likely Voters</td>\n",
       "      <td>Internet</td>\n",
       "      <td>49.0</td>\n",
       "      <td>47.0</td>\n",
       "      <td>3.0</td>\n",
       "      <td>NaN</td>\n",
       "      <td>http://elections.huffingtonpost.com/pollster/p...</td>\n",
       "      <td>http://cdn.yougov.com/cumulus_uploads/document...</td>\n",
       "      <td>Nonpartisan</td>\n",
       "      <td>None</td>\n",
       "      <td>NaN</td>\n",
       "      <td>1</td>\n",
       "      <td>0.02</td>\n",
       "    </tr>\n",
       "    <tr>\n",
       "      <th>2</th>\n",
       "      <td>Gravis Marketing</td>\n",
       "      <td>2012-11-03</td>\n",
       "      <td>2012-11-05</td>\n",
       "      <td>2012-11-06T09:22:02Z</td>\n",
       "      <td>872.0</td>\n",
       "      <td>Likely Voters</td>\n",
       "      <td>Automated Phone</td>\n",
       "      <td>48.0</td>\n",
       "      <td>48.0</td>\n",
       "      <td>4.0</td>\n",
       "      <td>NaN</td>\n",
       "      <td>http://elections.huffingtonpost.com/pollster/p...</td>\n",
       "      <td>http://www.gravispolls.com/2012/11/gravis-mark...</td>\n",
       "      <td>Nonpartisan</td>\n",
       "      <td>None</td>\n",
       "      <td>NaN</td>\n",
       "      <td>1</td>\n",
       "      <td>0.00</td>\n",
       "    </tr>\n",
       "    <tr>\n",
       "      <th>3</th>\n",
       "      <td>IBD/TIPP</td>\n",
       "      <td>2012-11-03</td>\n",
       "      <td>2012-11-05</td>\n",
       "      <td>2012-11-06T08:51:48Z</td>\n",
       "      <td>712.0</td>\n",
       "      <td>Likely Voters</td>\n",
       "      <td>Live Phone</td>\n",
       "      <td>50.0</td>\n",
       "      <td>49.0</td>\n",
       "      <td>NaN</td>\n",
       "      <td>1.0</td>\n",
       "      <td>http://elections.huffingtonpost.com/pollster/p...</td>\n",
       "      <td>http://news.investors.com/special-report/50841...</td>\n",
       "      <td>Nonpartisan</td>\n",
       "      <td>None</td>\n",
       "      <td>NaN</td>\n",
       "      <td>1</td>\n",
       "      <td>0.01</td>\n",
       "    </tr>\n",
       "    <tr>\n",
       "      <th>4</th>\n",
       "      <td>Rasmussen</td>\n",
       "      <td>2012-11-03</td>\n",
       "      <td>2012-11-05</td>\n",
       "      <td>2012-11-06T08:47:50Z</td>\n",
       "      <td>1500.0</td>\n",
       "      <td>Likely Voters</td>\n",
       "      <td>Automated Phone</td>\n",
       "      <td>48.0</td>\n",
       "      <td>49.0</td>\n",
       "      <td>NaN</td>\n",
       "      <td>NaN</td>\n",
       "      <td>http://elections.huffingtonpost.com/pollster/p...</td>\n",
       "      <td>http://www.rasmussenreports.com/public_content...</td>\n",
       "      <td>Nonpartisan</td>\n",
       "      <td>None</td>\n",
       "      <td>NaN</td>\n",
       "      <td>1</td>\n",
       "      <td>-0.01</td>\n",
       "    </tr>\n",
       "  </tbody>\n",
       "</table>\n",
       "</div>"
      ],
      "text/plain": [
       "                    Pollster  Start Date    End Date  Entry Date/Time (ET)  \\\n",
       "0  Politico/GWU/Battleground  2012-11-04  2012-11-05  2012-11-06T08:40:26Z   \n",
       "1           YouGov/Economist  2012-11-03  2012-11-05  2012-11-26T15:31:23Z   \n",
       "2           Gravis Marketing  2012-11-03  2012-11-05  2012-11-06T09:22:02Z   \n",
       "3                   IBD/TIPP  2012-11-03  2012-11-05  2012-11-06T08:51:48Z   \n",
       "4                  Rasmussen  2012-11-03  2012-11-05  2012-11-06T08:47:50Z   \n",
       "\n",
       "   Number of Observations     Population             Mode  Obama  Romney  \\\n",
       "0                  1000.0  Likely Voters       Live Phone   47.0    47.0   \n",
       "1                   740.0  Likely Voters         Internet   49.0    47.0   \n",
       "2                   872.0  Likely Voters  Automated Phone   48.0    48.0   \n",
       "3                   712.0  Likely Voters       Live Phone   50.0    49.0   \n",
       "4                  1500.0  Likely Voters  Automated Phone   48.0    49.0   \n",
       "\n",
       "   Undecided  Other                                       Pollster URL  \\\n",
       "0        6.0    NaN  http://elections.huffingtonpost.com/pollster/p...   \n",
       "1        3.0    NaN  http://elections.huffingtonpost.com/pollster/p...   \n",
       "2        4.0    NaN  http://elections.huffingtonpost.com/pollster/p...   \n",
       "3        NaN    1.0  http://elections.huffingtonpost.com/pollster/p...   \n",
       "4        NaN    NaN  http://elections.huffingtonpost.com/pollster/p...   \n",
       "\n",
       "                                          Source URL     Partisan Affiliation  \\\n",
       "0  http://www.politico.com/news/stories/1112/8338...  Nonpartisan        None   \n",
       "1  http://cdn.yougov.com/cumulus_uploads/document...  Nonpartisan        None   \n",
       "2  http://www.gravispolls.com/2012/11/gravis-mark...  Nonpartisan        None   \n",
       "3  http://news.investors.com/special-report/50841...  Nonpartisan        None   \n",
       "4  http://www.rasmussenreports.com/public_content...  Nonpartisan        None   \n",
       "\n",
       "   Question Text  Question Iteration  Difference  \n",
       "0            NaN                   1        0.00  \n",
       "1            NaN                   1        0.02  \n",
       "2            NaN                   1        0.00  \n",
       "3            NaN                   1        0.01  \n",
       "4            NaN                   1       -0.01  "
      ]
     },
     "execution_count": 26,
     "metadata": {},
     "output_type": "execute_result"
    }
   ],
   "source": [
    "poll_df.head()"
   ]
  },
  {
   "cell_type": "code",
   "execution_count": 27,
   "metadata": {
    "collapsed": false
   },
   "outputs": [
    {
     "data": {
      "text/html": [
       "<div>\n",
       "<table border=\"1\" class=\"dataframe\">\n",
       "  <thead>\n",
       "    <tr style=\"text-align: right;\">\n",
       "      <th></th>\n",
       "      <th>Start Date</th>\n",
       "      <th>Number of Observations</th>\n",
       "      <th>Obama</th>\n",
       "      <th>Romney</th>\n",
       "      <th>Undecided</th>\n",
       "      <th>Other</th>\n",
       "      <th>Question Text</th>\n",
       "      <th>Question Iteration</th>\n",
       "      <th>Difference</th>\n",
       "    </tr>\n",
       "  </thead>\n",
       "  <tbody>\n",
       "    <tr>\n",
       "      <th>0</th>\n",
       "      <td>2009-03-13</td>\n",
       "      <td>1403.0</td>\n",
       "      <td>44.0</td>\n",
       "      <td>44.0</td>\n",
       "      <td>12.0</td>\n",
       "      <td>NaN</td>\n",
       "      <td>NaN</td>\n",
       "      <td>1</td>\n",
       "      <td>0.00</td>\n",
       "    </tr>\n",
       "    <tr>\n",
       "      <th>1</th>\n",
       "      <td>2009-04-17</td>\n",
       "      <td>686.0</td>\n",
       "      <td>50.0</td>\n",
       "      <td>39.0</td>\n",
       "      <td>11.0</td>\n",
       "      <td>NaN</td>\n",
       "      <td>NaN</td>\n",
       "      <td>1</td>\n",
       "      <td>0.11</td>\n",
       "    </tr>\n",
       "    <tr>\n",
       "      <th>2</th>\n",
       "      <td>2009-05-14</td>\n",
       "      <td>1000.0</td>\n",
       "      <td>53.0</td>\n",
       "      <td>35.0</td>\n",
       "      <td>12.0</td>\n",
       "      <td>NaN</td>\n",
       "      <td>NaN</td>\n",
       "      <td>1</td>\n",
       "      <td>0.18</td>\n",
       "    </tr>\n",
       "    <tr>\n",
       "      <th>3</th>\n",
       "      <td>2009-06-12</td>\n",
       "      <td>638.0</td>\n",
       "      <td>48.0</td>\n",
       "      <td>40.0</td>\n",
       "      <td>12.0</td>\n",
       "      <td>NaN</td>\n",
       "      <td>NaN</td>\n",
       "      <td>1</td>\n",
       "      <td>0.08</td>\n",
       "    </tr>\n",
       "    <tr>\n",
       "      <th>4</th>\n",
       "      <td>2009-07-15</td>\n",
       "      <td>577.0</td>\n",
       "      <td>49.0</td>\n",
       "      <td>40.0</td>\n",
       "      <td>11.0</td>\n",
       "      <td>NaN</td>\n",
       "      <td>NaN</td>\n",
       "      <td>1</td>\n",
       "      <td>0.09</td>\n",
       "    </tr>\n",
       "  </tbody>\n",
       "</table>\n",
       "</div>"
      ],
      "text/plain": [
       "   Start Date  Number of Observations  Obama  Romney  Undecided  Other  \\\n",
       "0  2009-03-13                  1403.0   44.0    44.0       12.0    NaN   \n",
       "1  2009-04-17                   686.0   50.0    39.0       11.0    NaN   \n",
       "2  2009-05-14                  1000.0   53.0    35.0       12.0    NaN   \n",
       "3  2009-06-12                   638.0   48.0    40.0       12.0    NaN   \n",
       "4  2009-07-15                   577.0   49.0    40.0       11.0    NaN   \n",
       "\n",
       "   Question Text  Question Iteration  Difference  \n",
       "0            NaN                   1        0.00  \n",
       "1            NaN                   1        0.11  \n",
       "2            NaN                   1        0.18  \n",
       "3            NaN                   1        0.08  \n",
       "4            NaN                   1        0.09  "
      ]
     },
     "execution_count": 27,
     "metadata": {},
     "output_type": "execute_result"
    }
   ],
   "source": [
    "# Set as_index=Flase to keep the 0,1,2,... index. Then we'll take the mean of the polls on that day.\n",
    "poll_df = poll_df.groupby(['Start Date'],as_index=False).mean()\n",
    "\n",
    "# Let's go ahead and see what this looks like\n",
    "poll_df.head()"
   ]
  },
  {
   "cell_type": "code",
   "execution_count": 29,
   "metadata": {
    "collapsed": false
   },
   "outputs": [
    {
     "data": {
      "image/png": "[encoded data removed]",
      "text/plain": [
       "<matplotlib.figure.Figure at 0x10cc969e8>"
      ]
     },
     "metadata": {},
     "output_type": "display_data"
    }
   ],
   "source": [
    "# Plotting the difference in polls between Obama and Romney\n",
    "fig = poll_df.plot('Start Date','Difference',figsize=(12,4),marker='o',linestyle='-',color='purple')"
   ]
  },
  {
   "cell_type": "markdown",
   "metadata": {},
   "source": [
    "It would be very interesting to plot marker lines on the dates of the debates and see if there is any general insight to the poll results.\n",
    "\n",
    "The debate dates were Oct 3rd, Oct 11, and Oct 22nd. Let's plot some lines as markers and then zoom in on the month of October.\n",
    "\n",
    "In order to find where to set the x limits for the figure we need to find out where the index for the month of October in 2012 is. Here's a simple for loop to find that row. Note, the string format of the date makes this difficult to do without using a lambda expression or a map."
   ]
  },
  {
   "cell_type": "code",
   "execution_count": 31,
   "metadata": {
    "collapsed": false
   },
   "outputs": [
    {
     "name": "stdout",
     "output_type": "stream",
     "text": [
      "329\n",
      "356\n"
     ]
    }
   ],
   "source": [
    "# Set row count and xlimit list\n",
    "row_in = 0\n",
    "xlimit = []\n",
    "\n",
    "# Cycle through dates until 2012-10 is found, then print row index\n",
    "for date in poll_df['Start Date']:\n",
    "    if date[0:7] == '2012-10':\n",
    "        xlimit.append(row_in)\n",
    "        row_in +=1\n",
    "    else:\n",
    "        row_in += 1\n",
    "        \n",
    "print (min(xlimit))\n",
    "print (max(xlimit))"
   ]
  },
  {
   "cell_type": "code",
   "execution_count": 33,
   "metadata": {
    "collapsed": false
   },
   "outputs": [
    {
     "data": {
      "text/plain": [
       "<matplotlib.lines.Line2D at 0x10f6dd208>"
      ]
     },
     "execution_count": 33,
     "metadata": {},
     "output_type": "execute_result"
    },
    {
     "data": {
      "image/png": "[encoded data removed]",
      "text/plain": [
       "<matplotlib.figure.Figure at 0x10f5297b8>"
      ]
     },
     "metadata": {},
     "output_type": "display_data"
    }
   ],
   "source": [
    "# Start with original figure\n",
    "fig = poll_df.plot('Start Date','Difference',figsize=(12,4),marker='o',linestyle='-',color='purple',xlim=(329,356))\n",
    "\n",
    "# Now add the debate markers\n",
    "plt.axvline(x=329+2, linewidth=4, color='grey')\n",
    "# Oct 11th\n",
    "plt.axvline(x=329+10, linewidth=4, color='grey')\n",
    "# Oct 22nd\n",
    "plt.axvline(x=329+21, linewidth=4, color='grey')"
   ]
  },
  {
   "cell_type": "markdown",
   "metadata": {},
   "source": [
    "Surprisingly, thse polls reflect a dip for Obama after the second debate against Romney, even though memory serves that he performed much worse against Romney during the first debate.\n",
    "\n",
    "For all these polls it is important to remeber how geographical location can effect the value of a poll in predicting the outcomes of a national election.\n",
    "\n"
   ]
  },
  {
   "cell_type": "code",
   "execution_count": null,
   "metadata": {
    "collapsed": true
   },
   "outputs": [],
   "source": []
  }
 ],
 "metadata": {
  "kernelspec": {
   "display_name": "Python 3",
   "language": "python",
   "name": "python3"
  },
  "language_info": {
   "codemirror_mode": {
    "name": "ipython",
    "version": 3
   },
   "file_extension": ".py",
   "mimetype": "text/x-python",
   "name": "python",
   "nbconvert_exporter": "python",
   "pygments_lexer": "ipython3",
   "version": "3.4.3"
  }
 },
 "nbformat": 4,
 "nbformat_minor": 0
}
